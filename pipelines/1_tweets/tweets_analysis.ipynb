{
 "cells": [
  {
   "cell_type": "markdown",
   "metadata": {},
   "source": [
    "# Tweets - Analysis"
   ]
  },
  {
   "cell_type": "code",
   "execution_count": 1,
   "metadata": {},
   "outputs": [],
   "source": [
    "import configparser\n",
    "import csv\n",
    "import itertools\n",
    "import json\n",
    "import operator\n",
    "from os import listdir\n",
    "from pathlib import Path\n",
    "from pprint import pprint\n",
    "\n",
    "import matplotlib.pyplot as plt\n",
    "import pandas as pd\n",
    "import plotly.plotly as py\n",
    "import seaborn as sns\n",
    "from tqdm._tqdm_notebook import tqdm_notebook as tqdm\n",
    "\n",
    "from _helpers import *\n",
    "\n",
    "tqdm.pandas()"
   ]
  },
  {
   "cell_type": "code",
   "execution_count": 2,
   "metadata": {},
   "outputs": [],
   "source": [
    "sns.set_style(\"darkgrid\")\n",
    "sns.set(rc={'figure.figsize':(15,10)})\n",
    "sns.set(font_scale=2)"
   ]
  },
  {
   "cell_type": "markdown",
   "metadata": {},
   "source": [
    "## File directories"
   ]
  },
  {
   "cell_type": "code",
   "execution_count": 8,
   "metadata": {},
   "outputs": [
    {
     "name": "stderr",
     "output_type": "stream",
     "text": [
      "/home/asura/.virtualenvs/altmetrics/lib/python3.5/site-packages/numpy/lib/arraysetops.py:463: FutureWarning:\n",
      "\n",
      "elementwise comparison failed; returning scalar instead, but in the future will perform elementwise comparison\n",
      "\n"
     ]
    }
   ],
   "source": [
    "root = Path('../../')\n",
    "Config = configparser.ConfigParser()\n",
    "Config.read(str(root / 'config.cnf'))\n",
    "\n",
    "tweets = root / Config.get('output_files', 'tweets')\n",
    "tweets = load_tweets(tweets)\n",
    "\n",
    "queries = root / Config.get('input_files', 'queries')\n",
    "queries = load_queries(str(queries))\n",
    "\n",
    "summary_tweets = root / Config.get('output_files', 'summary_tweets')"
   ]
  },
  {
   "cell_type": "code",
   "execution_count": 11,
   "metadata": {},
   "outputs": [
    {
     "data": {
      "text/plain": [
       "['slate',\n",
       " 'iflscience',\n",
       " 'washingtonpost',\n",
       " 'bostonglobe',\n",
       " 'chicago',\n",
       " 'foxnews',\n",
       " 'sfchronicle',\n",
       " 'nytimes',\n",
       " 'latimes',\n",
       " 'theglobeandmail',\n",
       " 'wired',\n",
       " 'theguardian']"
      ]
     },
     "execution_count": 11,
     "metadata": {},
     "output_type": "execute_result"
    }
   ],
   "source": [
    "tweets.venue.unique().tolist()"
   ]
  },
  {
   "cell_type": "code",
   "execution_count": 16,
   "metadata": {},
   "outputs": [
    {
     "name": "stdout",
     "output_type": "stream",
     "text": [
      "Successfully refetched 48350 (1.35%) tweets\n",
      "5719 (0.16%) failed to refetch. All tweets with refetch errors are removed from the dataset.\n",
      "0 tweets remain truncated.\n",
      "\n",
      "Error Breakdown\n",
      "No status found with that ID. (144): 2850\n",
      "User has been suspended. (63): 2606\n",
      "Sorry, you are not authorized to see this status. (179): 211\n",
      "Sorry, that page does not exist. (34): 52\n"
     ]
    }
   ],
   "source": [
    "t = tweets.shape[0]\n",
    "\n",
    "x = tweets[tweets.error.isna()].refetched.sum()\n",
    "print(\"Successfully refetched {} ({:.2f}%) tweets\".format(x, 100*x/t))\n",
    "\n",
    "x = tweets.error.count()\n",
    "y = tweets[tweets.error.isna()].is_truncated.sum()\n",
    "print(\"{} ({:.2f}%) failed to refetch. All tweets with refetch errors are removed from the dataset.\\n{} tweets remain truncated.\\n\".format(x, 100*x/t, y))\n",
    "print(\"Error Breakdown\")\n",
    "for x,y in tweets.error.value_counts().iteritems():\n",
    "    x = eval(x)\n",
    "    print(\"{} ({}): {}\".format(x[0]['message'], x[0]['code'], y))\n",
    "\n",
    "# Remove tweets that failed to refetch\n",
    "tweets = tweets[tweets.error.isna()]"
   ]
  },
  {
   "cell_type": "code",
   "execution_count": 17,
   "metadata": {},
   "outputs": [],
   "source": [
    "originals = tweets[(tweets.retweeted_status.isna()) & (tweets.quoted_status.isna())]\n",
    "retweets = tweets[(tweets.retweeted_status.notna()) & (tweets.quoted_status.isna())]\n",
    "quotes = tweets[(tweets.retweeted_status.isna()) & (tweets.quoted_status.notna())]\n",
    "rtquotes = tweets[(tweets.retweeted_status.notna()) & (tweets.quoted_status.notna())]"
   ]
  },
  {
   "cell_type": "code",
   "execution_count": 18,
   "metadata": {},
   "outputs": [
    {
     "data": {
      "text/html": [
       "<div>\n",
       "<style scoped>\n",
       "    .dataframe tbody tr th:only-of-type {\n",
       "        vertical-align: middle;\n",
       "    }\n",
       "\n",
       "    .dataframe tbody tr th {\n",
       "        vertical-align: top;\n",
       "    }\n",
       "\n",
       "    .dataframe thead th {\n",
       "        text-align: right;\n",
       "    }\n",
       "</style>\n",
       "<table border=\"1\" class=\"dataframe\">\n",
       "  <thead>\n",
       "    <tr style=\"text-align: right;\">\n",
       "      <th></th>\n",
       "      <th>found tweets</th>\n",
       "      <th>original</th>\n",
       "      <th>retweets</th>\n",
       "      <th>quotes</th>\n",
       "      <th>retweets/quotes</th>\n",
       "      <th>reply</th>\n",
       "    </tr>\n",
       "    <tr>\n",
       "      <th>venue</th>\n",
       "      <th></th>\n",
       "      <th></th>\n",
       "      <th></th>\n",
       "      <th></th>\n",
       "      <th></th>\n",
       "      <th></th>\n",
       "    </tr>\n",
       "  </thead>\n",
       "  <tbody>\n",
       "    <tr>\n",
       "      <th>bostonglobe</th>\n",
       "      <td>16468</td>\n",
       "      <td>3996</td>\n",
       "      <td>11616</td>\n",
       "      <td>317</td>\n",
       "      <td>539</td>\n",
       "      <td>129</td>\n",
       "    </tr>\n",
       "    <tr>\n",
       "      <th>chicago</th>\n",
       "      <td>830</td>\n",
       "      <td>265</td>\n",
       "      <td>564</td>\n",
       "      <td>1</td>\n",
       "      <td>0</td>\n",
       "      <td>4</td>\n",
       "    </tr>\n",
       "    <tr>\n",
       "      <th>foxnews</th>\n",
       "      <td>229911</td>\n",
       "      <td>100453</td>\n",
       "      <td>88014</td>\n",
       "      <td>2032</td>\n",
       "      <td>39412</td>\n",
       "      <td>2363</td>\n",
       "    </tr>\n",
       "    <tr>\n",
       "      <th>iflscience</th>\n",
       "      <td>184242</td>\n",
       "      <td>128366</td>\n",
       "      <td>53984</td>\n",
       "      <td>1488</td>\n",
       "      <td>404</td>\n",
       "      <td>2947</td>\n",
       "    </tr>\n",
       "    <tr>\n",
       "      <th>latimes</th>\n",
       "      <td>125809</td>\n",
       "      <td>53174</td>\n",
       "      <td>71081</td>\n",
       "      <td>514</td>\n",
       "      <td>1040</td>\n",
       "      <td>1088</td>\n",
       "    </tr>\n",
       "    <tr>\n",
       "      <th>nytimes</th>\n",
       "      <td>1124602</td>\n",
       "      <td>422636</td>\n",
       "      <td>687368</td>\n",
       "      <td>5432</td>\n",
       "      <td>9166</td>\n",
       "      <td>6588</td>\n",
       "    </tr>\n",
       "    <tr>\n",
       "      <th>sfchronicle</th>\n",
       "      <td>9863</td>\n",
       "      <td>2822</td>\n",
       "      <td>6970</td>\n",
       "      <td>39</td>\n",
       "      <td>32</td>\n",
       "      <td>40</td>\n",
       "    </tr>\n",
       "    <tr>\n",
       "      <th>slate</th>\n",
       "      <td>1873</td>\n",
       "      <td>876</td>\n",
       "      <td>942</td>\n",
       "      <td>15</td>\n",
       "      <td>40</td>\n",
       "      <td>21</td>\n",
       "    </tr>\n",
       "    <tr>\n",
       "      <th>theglobeandmail</th>\n",
       "      <td>26130</td>\n",
       "      <td>8034</td>\n",
       "      <td>17999</td>\n",
       "      <td>45</td>\n",
       "      <td>52</td>\n",
       "      <td>583</td>\n",
       "    </tr>\n",
       "    <tr>\n",
       "      <th>theguardian</th>\n",
       "      <td>78972</td>\n",
       "      <td>40988</td>\n",
       "      <td>35260</td>\n",
       "      <td>1350</td>\n",
       "      <td>1374</td>\n",
       "      <td>855</td>\n",
       "    </tr>\n",
       "    <tr>\n",
       "      <th>washingtonpost</th>\n",
       "      <td>1613328</td>\n",
       "      <td>405655</td>\n",
       "      <td>1199803</td>\n",
       "      <td>1315</td>\n",
       "      <td>6555</td>\n",
       "      <td>7797</td>\n",
       "    </tr>\n",
       "    <tr>\n",
       "      <th>wired</th>\n",
       "      <td>172956</td>\n",
       "      <td>91001</td>\n",
       "      <td>79540</td>\n",
       "      <td>1553</td>\n",
       "      <td>862</td>\n",
       "      <td>822</td>\n",
       "    </tr>\n",
       "  </tbody>\n",
       "</table>\n",
       "</div>"
      ],
      "text/plain": [
       "                 found tweets  original  retweets  quotes  retweets/quotes  \\\n",
       "venue                                                                        \n",
       "bostonglobe             16468      3996     11616     317              539   \n",
       "chicago                   830       265       564       1                0   \n",
       "foxnews                229911    100453     88014    2032            39412   \n",
       "iflscience             184242    128366     53984    1488              404   \n",
       "latimes                125809     53174     71081     514             1040   \n",
       "nytimes               1124602    422636    687368    5432             9166   \n",
       "sfchronicle              9863      2822      6970      39               32   \n",
       "slate                    1873       876       942      15               40   \n",
       "theglobeandmail         26130      8034     17999      45               52   \n",
       "theguardian             78972     40988     35260    1350             1374   \n",
       "washingtonpost        1613328    405655   1199803    1315             6555   \n",
       "wired                  172956     91001     79540    1553              862   \n",
       "\n",
       "                 reply  \n",
       "venue                   \n",
       "bostonglobe        129  \n",
       "chicago              4  \n",
       "foxnews           2363  \n",
       "iflscience        2947  \n",
       "latimes           1088  \n",
       "nytimes           6588  \n",
       "sfchronicle         40  \n",
       "slate               21  \n",
       "theglobeandmail    583  \n",
       "theguardian        855  \n",
       "washingtonpost    7797  \n",
       "wired              822  "
      ]
     },
     "execution_count": 18,
     "metadata": {},
     "output_type": "execute_result"
    }
   ],
   "source": [
    "x = tweets.groupby(\"venue\").count()\n",
    "\n",
    "x['original'] = tweets.groupby('venue')[['retweeted_status', 'quoted_status']].apply(lambda x: x[(x.retweeted_status.isna()) & (x.quoted_status.isna())].shape[0])\n",
    "x['retweets'] = tweets.groupby('venue')[['retweeted_status', 'quoted_status']].apply(lambda x: x[(x.retweeted_status.notna()) & (x.quoted_status.isna())].shape[0])\n",
    "x['quotes'] = tweets.groupby('venue')[['retweeted_status', 'quoted_status']].apply(lambda x: x[(x.retweeted_status.isna()) & (x.quoted_status.notna())].shape[0])\n",
    "x['rtquotes'] = tweets.groupby('venue')[['retweeted_status', 'quoted_status']].apply(lambda x: x[(x.retweeted_status.notna()) & (x.quoted_status.notna())].shape[0])\n",
    "\n",
    "x['is_truncated'] = tweets.groupby(\"venue\")['is_truncated'].sum()\n",
    "x['refetched'] = tweets.groupby(\"venue\")['refetched'].sum()\n",
    "\n",
    "x = x[['tweet_id', 'original', 'retweets', 'quotes', 'rtquotes', 'in_reply_to']]\n",
    "x.columns = ['found tweets', 'original', 'retweets', 'quotes', 'retweets/quotes', 'reply']\n",
    "x.to_csv(summary_tweets)\n",
    "x"
   ]
  },
  {
   "cell_type": "code",
   "execution_count": 19,
   "metadata": {},
   "outputs": [
    {
     "data": {
      "text/html": [
       "<div>\n",
       "<style scoped>\n",
       "    .dataframe tbody tr th:only-of-type {\n",
       "        vertical-align: middle;\n",
       "    }\n",
       "\n",
       "    .dataframe tbody tr th {\n",
       "        vertical-align: top;\n",
       "    }\n",
       "\n",
       "    .dataframe thead th {\n",
       "        text-align: right;\n",
       "    }\n",
       "</style>\n",
       "<table border=\"1\" class=\"dataframe\">\n",
       "  <thead>\n",
       "    <tr style=\"text-align: right;\">\n",
       "      <th></th>\n",
       "      <th>n</th>\n",
       "      <th>%</th>\n",
       "    </tr>\n",
       "  </thead>\n",
       "  <tbody>\n",
       "    <tr>\n",
       "      <th>found tweets</th>\n",
       "      <td>3584984</td>\n",
       "      <td>100.0</td>\n",
       "    </tr>\n",
       "    <tr>\n",
       "      <th>original</th>\n",
       "      <td>1258266</td>\n",
       "      <td>35.1</td>\n",
       "    </tr>\n",
       "    <tr>\n",
       "      <th>retweets</th>\n",
       "      <td>2253141</td>\n",
       "      <td>62.8</td>\n",
       "    </tr>\n",
       "    <tr>\n",
       "      <th>quotes</th>\n",
       "      <td>14101</td>\n",
       "      <td>0.4</td>\n",
       "    </tr>\n",
       "    <tr>\n",
       "      <th>retweets/quotes</th>\n",
       "      <td>59476</td>\n",
       "      <td>1.7</td>\n",
       "    </tr>\n",
       "    <tr>\n",
       "      <th>reply</th>\n",
       "      <td>23237</td>\n",
       "      <td>0.6</td>\n",
       "    </tr>\n",
       "  </tbody>\n",
       "</table>\n",
       "</div>"
      ],
      "text/plain": [
       "                       n      %\n",
       "found tweets     3584984  100.0\n",
       "original         1258266   35.1\n",
       "retweets         2253141   62.8\n",
       "quotes             14101    0.4\n",
       "retweets/quotes    59476    1.7\n",
       "reply              23237    0.6"
      ]
     },
     "execution_count": 19,
     "metadata": {},
     "output_type": "execute_result"
    }
   ],
   "source": [
    "summary = pd.DataFrame(columns=[\"n\", \"%\"])\n",
    "summary['n'] = x.sum()\n",
    "summary['%'] = 100 * summary['n'] / summary.loc['found tweets', 'n']\n",
    "summary.round(1)"
   ]
  },
  {
   "cell_type": "code",
   "execution_count": 65,
   "metadata": {},
   "outputs": [
    {
     "data": {
      "image/png": "[encoded data removed]",
      "text/plain": [
       "<matplotlib.figure.Figure at 0x7fc169015dd8>"
      ]
     },
     "metadata": {},
     "output_type": "display_data"
    }
   ],
   "source": [
    "colors = itertools.cycle(sns.color_palette())\n",
    "\n",
    "order = x['found tweets'].sort_values().index\n",
    "\n",
    "# RT Quotes\n",
    "df = x.original + x.retweets + x.quotes + x['retweets/quotes']\n",
    "df.reindex(order).plot(kind=\"barh\", color=next(colors), label=\"Retweet/Quotes\")\n",
    "\n",
    "# Quoted\n",
    "df = x.original + x.retweets + x.quotes\n",
    "df.reindex(order).plot(kind=\"barh\", color=next(colors), label=\"Quotes\")\n",
    "\n",
    "# Retweets\n",
    "df = x.original + x.retweets\n",
    "df.reindex(order).plot(kind=\"barh\", color=next(colors), label=\"Retweets\")\n",
    "\n",
    "# Originals\n",
    "df = x.original\n",
    "df.reindex(order).plot(kind=\"barh\", color=next(colors), label=\"Original\")\n",
    "\n",
    "handles, labels = plt.gca().get_legend_handles_labels()\n",
    "plt.legend(handles[::-1], labels[::-1], loc=\"lower right\")\n",
    "plt.ylabel(\"News source\");\n",
    "plt.xlabel(\"Tweets\");\n",
    "plt.title(\"Results from 01/09/2018 - 01/09/2018\");\n",
    "# plt.xscale(\"log\")"
   ]
  },
  {
   "cell_type": "markdown",
   "metadata": {},
   "source": [
    "## Retweets/Quotes"
   ]
  },
  {
   "cell_type": "code",
   "execution_count": 20,
   "metadata": {},
   "outputs": [
    {
     "name": "stdout",
     "output_type": "stream",
     "text": [
      "The data contains 2312617 (64.41%) retweets which in total reference 203116 (5.66%) original tweets.\n",
      "Of these 203116 original tweets, we find 119317 (58.74%) in our collection.\n"
     ]
    }
   ],
   "source": [
    "total_rts = tweets.retweeted_status.notna().sum()\n",
    "\n",
    "rts = set(tweets.retweeted_status.dropna().unique())\n",
    "orig_tweets = tweets.retweeted_status.nunique()\n",
    "\n",
    "found_rts = len(rts.intersection(set(tweets.tweet_id)))\n",
    "\n",
    "s = \"\"\"The data contains {} ({:.2f}%) retweets which in total reference {} ({:.2f}%) original tweets.\n",
    "Of these {} original tweets, we find {} ({:.2f}%) in our collection.\"\"\"\n",
    "\n",
    "print(s.format(total_rts, 100*total_rts/t,\n",
    "               orig_tweets, 100*orig_tweets/t,\n",
    "               orig_tweets, found_rts, 100*found_rts/orig_tweets))"
   ]
  },
  {
   "cell_type": "code",
   "execution_count": 89,
   "metadata": {},
   "outputs": [
    {
     "name": "stdout",
     "output_type": "stream",
     "text": [
      "The data contains 73577 (2.05%) quotes which in total reference 9025 (0.25%) original tweets.\n",
      "Of these 9025 original tweets, we find 1589 (17.61%) in our collection.\n"
     ]
    }
   ],
   "source": [
    "total_rts = tweets.quoted_status.notna().sum()\n",
    "\n",
    "rts = set(tweets.quoted_status.dropna().unique())\n",
    "orig_tweets = tweets.quoted_status.nunique()\n",
    "\n",
    "found_rts = len(rts.intersection(set(tweets.tweet_id)))\n",
    "\n",
    "s = \"\"\"The data contains {} ({:.2f}%) quotes which in total reference {} ({:.2f}%) original tweets.\n",
    "Of these {} original tweets, we find {} ({:.2f}%) in our collection.\"\"\"\n",
    "\n",
    "print(s.format(total_rts, 100*total_rts/t,\n",
    "               orig_tweets, 100*orig_tweets/t,\n",
    "               orig_tweets, found_rts, 100*found_rts/orig_tweets))"
   ]
  },
  {
   "cell_type": "code",
   "execution_count": 66,
   "metadata": {},
   "outputs": [],
   "source": [
    "values = []\n",
    "values.append(x.sum().original)\n",
    "values.append(x.sum().retweets + x.sum()['retweets/quotes'])\n",
    "values.append(x.sum().quotes + x.sum()['retweets/quotes'])\n",
    "\n",
    "rel_ids = set(originals.tweet_id)\n",
    "a = len(set(tweets.tweet_id).intersection(rel_ids))\n",
    "values.append(a)\n",
    "values.append(len(rel_ids)-a)\n",
    "\n",
    "rel_ids = set(retweets.retweeted_status).union(rtquotes.retweeted_status)\n",
    "a = len(set(tweets.tweet_id).intersection(rel_ids))\n",
    "values.append(a)\n",
    "values.append(len(rel_ids)-a)\n",
    "\n",
    "rel_ids = set(quotes.quoted_status).union(rtquotes.quoted_status)\n",
    "a = len(set(tweets.tweet_id).intersection(rel_ids))\n",
    "values.append(a)\n",
    "values.append(len(rel_ids)-a)"
   ]
  },
  {
   "cell_type": "code",
   "execution_count": 67,
   "metadata": {},
   "outputs": [
    {
     "data": {
      "text/html": [
       "<iframe id=\"igraph\" scrolling=\"no\" style=\"border:none;\" seamless=\"seamless\" src=\"https://plot.ly/~asura.enkhbayar/76.embed\" height=\"525px\" width=\"100%\"></iframe>"
      ],
      "text/plain": [
       "<plotly.tools.PlotlyDisplay object>"
      ]
     },
     "execution_count": 67,
     "metadata": {},
     "output_type": "execute_result"
    }
   ],
   "source": [
    "data = dict(\n",
    "    type='sankey',\n",
    "    node = dict(\n",
    "      pad = 15,\n",
    "      thickness = 20,\n",
    "      line = dict(\n",
    "        color = \"black\",\n",
    "        width = 0.5\n",
    "      ),\n",
    "      label = [\"All tweets\", \"Original\", \"Retweets\", \"Quotes\", \"Found\", \"Missing\"]\n",
    "    ),\n",
    "    link = dict(\n",
    "      source = [0, 0, 0, 1, 1, 2, 2, 3, 3],\n",
    "      target = [1, 2, 3, 4, 5, 4, 5, 4, 5],\n",
    "      value = values\n",
    "  ))\n",
    "\n",
    "layout =  dict(\n",
    "    title = \"Retweets/Quotes pointing outside of the dataset\",\n",
    "    font = dict(\n",
    "      size = 20\n",
    "    )\n",
    ")\n",
    "\n",
    "fig = dict(data=[data], layout=layout)\n",
    "py.iplot(fig, validate=False)"
   ]
  }
 ],
 "metadata": {
  "kernelspec": {
   "display_name": "altmetrics",
   "language": "python",
   "name": "altmetrics"
  },
  "language_info": {
   "codemirror_mode": {
    "name": "ipython",
    "version": 3
   },
   "file_extension": ".py",
   "mimetype": "text/x-python",
   "name": "python",
   "nbconvert_exporter": "python",
   "pygments_lexer": "ipython3",
   "version": "3.5.2"
  }
 },
 "nbformat": 4,
 "nbformat_minor": 2
}
